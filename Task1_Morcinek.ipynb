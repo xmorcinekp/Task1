{
  "nbformat": 4,
  "nbformat_minor": 0,
  "metadata": {
    "colab": {
      "name": "Kopie sešitu mnist_fashion_keras.ipynb",
      "provenance": [],
      "collapsed_sections": [],
      "include_colab_link": true
    },
    "kernelspec": {
      "name": "python3",
      "display_name": "Python 3"
    },
    "accelerator": "GPU"
  },
  "cells": [
    {
      "cell_type": "markdown",
      "metadata": {
        "id": "view-in-github",
        "colab_type": "text"
      },
      "source": [
        "<a href=\"https://colab.research.google.com/github/xmorcinekp/Task1/blob/main/Task1_Morcinek.ipynb\" target=\"_parent\"><img src=\"https://colab.research.google.com/assets/colab-badge.svg\" alt=\"Open In Colab\"/></a>"
      ]
    },
    {
      "cell_type": "markdown",
      "metadata": {
        "id": "bmn8nhG3Swyq"
      },
      "source": [
        "## Setup"
      ]
    },
    {
      "cell_type": "code",
      "metadata": {
        "id": "_0aoL6X0OdSi",
        "colab": {
          "base_uri": "https://localhost:8080/"
        },
        "outputId": "c5e2f83a-b362-429a-849e-2f8076866854"
      },
      "source": [
        "import matplotlib.pyplot as plt\n",
        "import numpy as np\n",
        "import pandas as pd\n",
        "\n",
        "import tensorflow as tf\n",
        "from tensorflow import keras\n",
        "from tensorflow.keras import layers\n",
        "\n",
        "print(tf.__version__)"
      ],
      "execution_count": null,
      "outputs": [
        {
          "output_type": "stream",
          "name": "stdout",
          "text": [
            "2.6.0\n"
          ]
        }
      ]
    },
    {
      "cell_type": "markdown",
      "metadata": {
        "id": "nqWh6mUpTtD-"
      },
      "source": [
        "## Data"
      ]
    },
    {
      "cell_type": "code",
      "metadata": {
        "id": "y_SD_6ieSyOA",
        "colab": {
          "base_uri": "https://localhost:8080/"
        },
        "outputId": "f71a39be-4923-43ef-b63e-0777f8a187c2"
      },
      "source": [
        "# load Fashion MNIST from Keras repo\n",
        "fashion_mnist = tf.keras.datasets.fashion_mnist\n",
        "(x_train, y_train), (x_test, y_test) = fashion_mnist.load_data()\n",
        "\n",
        "# add extra dimension (to have one channel)\n",
        "x_train = x_train[:,:,:,None]\n",
        "x_test = x_test[:,:,:,None]\n",
        "\n",
        "x_train.shape, y_train.shape, x_test.shape, y_test.shape"
      ],
      "execution_count": null,
      "outputs": [
        {
          "output_type": "execute_result",
          "data": {
            "text/plain": [
              "((60000, 28, 28, 1), (60000,), (10000, 28, 28, 1), (10000,))"
            ]
          },
          "metadata": {},
          "execution_count": 43
        }
      ]
    },
    {
      "cell_type": "code",
      "metadata": {
        "id": "R7gREnSlTdUV"
      },
      "source": [
        "clothes_labels = ['T-shirt/top', 'Trouser', 'Pullover', 'Dress', 'Coat',\n",
        "                  'Sandal', 'Shirt', 'Sneaker', 'Bag', 'Ankle boot']"
      ],
      "execution_count": null,
      "outputs": []
    },
    {
      "cell_type": "code",
      "metadata": {
        "colab": {
          "base_uri": "https://localhost:8080/",
          "height": 283
        },
        "id": "VU6dEFGk3udF",
        "outputId": "f6524870-a3ca-4fda-de2a-0f46aa902991"
      },
      "source": [
        "plt.imshow(x_train[0,:,:,0]), y_train[0] # x = array, y = indexy pro nazvy"
      ],
      "execution_count": null,
      "outputs": [
        {
          "output_type": "execute_result",
          "data": {
            "text/plain": [
              "(<matplotlib.image.AxesImage at 0x7f237a754350>, 9)"
            ]
          },
          "metadata": {},
          "execution_count": 45
        },
        {
          "output_type": "display_data",
          "data": {
            "image/png": "[encoded data removed]",
            "text/plain": [
              "<Figure size 432x288 with 1 Axes>"
            ]
          },
          "metadata": {
            "needs_background": "light"
          }
        }
      ]
    },
    {
      "cell_type": "markdown",
      "metadata": {
        "id": "JFsDzcrJWsK5"
      },
      "source": [
        "## Plotting"
      ]
    },
    {
      "cell_type": "code",
      "metadata": {
        "id": "2Q25XXmGTrqG",
        "colab": {
          "base_uri": "https://localhost:8080/",
          "height": 480
        },
        "outputId": "58389c1c-7193-4ff0-9ae4-cf51445dde8d"
      },
      "source": [
        "def plot_image(x, title = \"\"):\n",
        "  plt.xticks([])\n",
        "  plt.yticks([])\n",
        "  plt.grid(False)\n",
        "  plt.imshow(x, cmap=plt.cm.binary)\n",
        "  plt.xlabel(title)\n",
        "\n",
        "plt.figure(figsize=(8,8))\n",
        "for i in range(0, 160, 10):\n",
        "  plt.subplot(4, 4, i // 10 + 1)\n",
        "  plot_image(x_train[i].squeeze(), clothes_labels[y_train[i]])\n"
      ],
      "execution_count": null,
      "outputs": [
        {
          "output_type": "display_data",
          "data": {
            "image/png": "[encoded data removed]",
            "text/plain": [
              "<Figure size 576x576 with 16 Axes>"
            ]
          },
          "metadata": {}
        }
      ]
    },
    {
      "cell_type": "markdown",
      "metadata": {
        "id": "RpECKIWLZjdD"
      },
      "source": [
        "## Dense Neural Network"
      ]
    },
    {
      "cell_type": "code",
      "metadata": {
        "id": "ihnXpLvXXg1L"
      },
      "source": [
        "# Normalize values from [0, 255] to [0, 1] interval\n",
        "x_train = x_train / 255\n",
        "x_test = x_test / 255"
      ],
      "execution_count": null,
      "outputs": []
    },
    {
      "cell_type": "code",
      "metadata": {
        "id": "vufNZxMhZ8Bk",
        "colab": {
          "base_uri": "https://localhost:8080/"
        },
        "outputId": "440fdaf5-ab31-42a3-959c-3813bda01b9f"
      },
      "source": [
        "y_train = keras.utils.to_categorical(y_train, 10)\n",
        "y_test = keras.utils.to_categorical(y_test, 10)\n",
        "\n",
        "y_train.shape"
      ],
      "execution_count": null,
      "outputs": [
        {
          "output_type": "execute_result",
          "data": {
            "text/plain": [
              "(60000, 10)"
            ]
          },
          "metadata": {},
          "execution_count": 48
        }
      ]
    },
    {
      "cell_type": "code",
      "metadata": {
        "id": "wVM4GU_Gb7dx",
        "colab": {
          "base_uri": "https://localhost:8080/"
        },
        "outputId": "51b67489-6ba1-4c45-bbef-350dcf4f47ab"
      },
      "source": [
        "dnn_model = keras.Sequential([\n",
        "      layers.Flatten(input_shape=(28,28)), # array 2 vecotr\n",
        "      layers.Dense(128, activation='relu'),\n",
        "      layers.Dense(64, activation='relu'),\n",
        "      layers.Dense(10, activation='softmax')\n",
        "])\n",
        "\n",
        "dnn_model.compile(loss='categorical_crossentropy', \n",
        "                  optimizer=tf.keras.optimizers.Adam(),\n",
        "                  metrics=['accuracy'])\n",
        "\n",
        "\n",
        "dnn_model.summary()"
      ],
      "execution_count": null,
      "outputs": [
        {
          "output_type": "stream",
          "name": "stdout",
          "text": [
            "Model: \"sequential_10\"\n",
            "_________________________________________________________________\n",
            "Layer (type)                 Output Shape              Param #   \n",
            "=================================================================\n",
            "flatten_10 (Flatten)         (None, 784)               0         \n",
            "_________________________________________________________________\n",
            "dense_32 (Dense)             (None, 128)               100480    \n",
            "_________________________________________________________________\n",
            "dense_33 (Dense)             (None, 64)                8256      \n",
            "_________________________________________________________________\n",
            "dense_34 (Dense)             (None, 10)                650       \n",
            "=================================================================\n",
            "Total params: 109,386\n",
            "Trainable params: 109,386\n",
            "Non-trainable params: 0\n",
            "_________________________________________________________________\n"
          ]
        }
      ]
    },
    {
      "cell_type": "code",
      "metadata": {
        "colab": {
          "base_uri": "https://localhost:8080/"
        },
        "id": "uVKFktmM5fZ_",
        "outputId": "405bfe94-e175-4f2f-e75c-78c3af08a919"
      },
      "source": [
        "100480-128*784 # za kazdy ze 128 neuronu musis pridat 1 parametr navic za bias"
      ],
      "execution_count": null,
      "outputs": [
        {
          "output_type": "execute_result",
          "data": {
            "text/plain": [
              "128"
            ]
          },
          "metadata": {},
          "execution_count": 50
        }
      ]
    },
    {
      "cell_type": "code",
      "metadata": {
        "id": "eOZEYZKDeVC-",
        "colab": {
          "base_uri": "https://localhost:8080/"
        },
        "outputId": "5b477385-c823-4ead-9505-2a5d51689d59"
      },
      "source": [
        "history = dnn_model.fit(\n",
        "  x_train, y_train,\n",
        "  batch_size = 256, # pocet obrazku, ktere naraz zpracuje = rychlost x pamet\n",
        "  epochs = 20, # kolikrat cely dataset projdu behem optimalizace parametru\n",
        "  validation_data = (x_test, y_test),\n",
        "  verbose = 1\n",
        ") # loss = crossentropy, accuracy = 79% urceno spravne, val_accuracy = na testovacich datech"
      ],
      "execution_count": null,
      "outputs": [
        {
          "output_type": "stream",
          "name": "stdout",
          "text": [
            "Epoch 1/20\n",
            "235/235 [==============================] - 2s 5ms/step - loss: 0.6087 - accuracy: 0.7942 - val_loss: 0.4707 - val_accuracy: 0.8320\n",
            "Epoch 2/20\n",
            "235/235 [==============================] - 1s 4ms/step - loss: 0.4068 - accuracy: 0.8561 - val_loss: 0.4085 - val_accuracy: 0.8569\n",
            "Epoch 3/20\n",
            "235/235 [==============================] - 1s 4ms/step - loss: 0.3691 - accuracy: 0.8666 - val_loss: 0.3977 - val_accuracy: 0.8588\n",
            "Epoch 4/20\n",
            "235/235 [==============================] - 1s 4ms/step - loss: 0.3375 - accuracy: 0.8774 - val_loss: 0.3772 - val_accuracy: 0.8654\n",
            "Epoch 5/20\n",
            "235/235 [==============================] - 1s 4ms/step - loss: 0.3205 - accuracy: 0.8848 - val_loss: 0.3598 - val_accuracy: 0.8741\n",
            "Epoch 6/20\n",
            "235/235 [==============================] - 1s 4ms/step - loss: 0.3032 - accuracy: 0.8891 - val_loss: 0.3521 - val_accuracy: 0.8741\n",
            "Epoch 7/20\n",
            "235/235 [==============================] - 1s 4ms/step - loss: 0.2904 - accuracy: 0.8933 - val_loss: 0.3623 - val_accuracy: 0.8713\n",
            "Epoch 8/20\n",
            "235/235 [==============================] - 1s 4ms/step - loss: 0.2773 - accuracy: 0.8980 - val_loss: 0.3567 - val_accuracy: 0.8713\n",
            "Epoch 9/20\n",
            "235/235 [==============================] - 1s 4ms/step - loss: 0.2717 - accuracy: 0.9005 - val_loss: 0.3571 - val_accuracy: 0.8745\n",
            "Epoch 10/20\n",
            "235/235 [==============================] - 1s 4ms/step - loss: 0.2619 - accuracy: 0.9029 - val_loss: 0.3436 - val_accuracy: 0.8796\n",
            "Epoch 11/20\n",
            "235/235 [==============================] - 1s 4ms/step - loss: 0.2534 - accuracy: 0.9059 - val_loss: 0.3377 - val_accuracy: 0.8791\n",
            "Epoch 12/20\n",
            "235/235 [==============================] - 1s 4ms/step - loss: 0.2463 - accuracy: 0.9087 - val_loss: 0.3451 - val_accuracy: 0.8805\n",
            "Epoch 13/20\n",
            "235/235 [==============================] - 1s 4ms/step - loss: 0.2407 - accuracy: 0.9109 - val_loss: 0.3489 - val_accuracy: 0.8797\n",
            "Epoch 14/20\n",
            "235/235 [==============================] - 1s 4ms/step - loss: 0.2326 - accuracy: 0.9136 - val_loss: 0.3449 - val_accuracy: 0.8806\n",
            "Epoch 15/20\n",
            "235/235 [==============================] - 1s 4ms/step - loss: 0.2254 - accuracy: 0.9162 - val_loss: 0.3400 - val_accuracy: 0.8830\n",
            "Epoch 16/20\n",
            "235/235 [==============================] - 1s 4ms/step - loss: 0.2204 - accuracy: 0.9178 - val_loss: 0.3389 - val_accuracy: 0.8823\n",
            "Epoch 17/20\n",
            "235/235 [==============================] - 1s 4ms/step - loss: 0.2144 - accuracy: 0.9208 - val_loss: 0.3441 - val_accuracy: 0.8776\n",
            "Epoch 18/20\n",
            "235/235 [==============================] - 1s 4ms/step - loss: 0.2125 - accuracy: 0.9204 - val_loss: 0.3367 - val_accuracy: 0.8845\n",
            "Epoch 19/20\n",
            "235/235 [==============================] - 1s 4ms/step - loss: 0.2044 - accuracy: 0.9240 - val_loss: 0.3351 - val_accuracy: 0.8880\n",
            "Epoch 20/20\n",
            "235/235 [==============================] - 1s 4ms/step - loss: 0.1985 - accuracy: 0.9265 - val_loss: 0.3422 - val_accuracy: 0.8868\n"
          ]
        }
      ]
    },
    {
      "cell_type": "code",
      "metadata": {
        "id": "-PByq3FVehBt",
        "colab": {
          "base_uri": "https://localhost:8080/",
          "height": 283
        },
        "outputId": "46b617cd-82f9-4e9e-d830-b2e674599926"
      },
      "source": [
        "def plot_loss(history, ylim=(0,1)):\n",
        "  plt.plot(history.history['accuracy'], label='accuracy')\n",
        "  plt.plot(history.history['val_accuracy'], label='val_accuracy')\n",
        "  plt.ylim(ylim)\n",
        "  plt.xlabel('Epoch')\n",
        "  plt.ylabel('Accuracy')\n",
        "  plt.legend()\n",
        "  plt.grid(True)\n",
        "\n",
        "plot_loss(history, ylim=(0.7, 1))"
      ],
      "execution_count": null,
      "outputs": [
        {
          "output_type": "display_data",
          "data": {
            "image/png": "[encoded data removed]",
            "text/plain": [
              "<Figure size 432x288 with 1 Axes>"
            ]
          },
          "metadata": {
            "needs_background": "light"
          }
        }
      ]
    },
    {
      "cell_type": "markdown",
      "metadata": {
        "id": "MTzNDXHC791k"
      },
      "source": [
        "new_param = old_param + learning_rate*grad"
      ]
    },
    {
      "cell_type": "markdown",
      "metadata": {
        "id": "J0J5uYHBtICf"
      },
      "source": [
        "**Change: increase the number of epoches**"
      ]
    },
    {
      "cell_type": "code",
      "metadata": {
        "colab": {
          "base_uri": "https://localhost:8080/"
        },
        "id": "TY_aQAF5tVqo",
        "outputId": "5bc04f69-7e50-4702-8ba6-df766c8b1e4d"
      },
      "source": [
        "dnn_model = keras.Sequential([\n",
        "      layers.Flatten(input_shape=(28,28)), # array 2 vecotr\n",
        "      layers.Dense(128, activation='relu'),\n",
        "      layers.Dense(64, activation='relu'),\n",
        "      layers.Dense(10, activation='softmax')\n",
        "])\n",
        "\n",
        "dnn_model.compile(loss='categorical_crossentropy', \n",
        "                  optimizer=tf.keras.optimizers.Adam(),\n",
        "                  metrics=['accuracy'])\n",
        "\n",
        "\n",
        "dnn_model.summary()"
      ],
      "execution_count": null,
      "outputs": [
        {
          "output_type": "stream",
          "name": "stdout",
          "text": [
            "Model: \"sequential_11\"\n",
            "_________________________________________________________________\n",
            "Layer (type)                 Output Shape              Param #   \n",
            "=================================================================\n",
            "flatten_11 (Flatten)         (None, 784)               0         \n",
            "_________________________________________________________________\n",
            "dense_35 (Dense)             (None, 128)               100480    \n",
            "_________________________________________________________________\n",
            "dense_36 (Dense)             (None, 64)                8256      \n",
            "_________________________________________________________________\n",
            "dense_37 (Dense)             (None, 10)                650       \n",
            "=================================================================\n",
            "Total params: 109,386\n",
            "Trainable params: 109,386\n",
            "Non-trainable params: 0\n",
            "_________________________________________________________________\n"
          ]
        }
      ]
    },
    {
      "cell_type": "code",
      "metadata": {
        "colab": {
          "base_uri": "https://localhost:8080/"
        },
        "id": "FWmAI8xktblY",
        "outputId": "73b2a216-8d3c-4cd7-857d-f72330284cf7"
      },
      "source": [
        "history = dnn_model.fit(\n",
        "  x_train, y_train,\n",
        "  batch_size = 256,\n",
        "  epochs = 40,\n",
        "  validation_data = (x_test, y_test),\n",
        "  verbose = 1\n",
        ")"
      ],
      "execution_count": null,
      "outputs": [
        {
          "output_type": "stream",
          "name": "stdout",
          "text": [
            "Epoch 1/40\n",
            "235/235 [==============================] - 2s 5ms/step - loss: 0.6162 - accuracy: 0.7882 - val_loss: 0.4681 - val_accuracy: 0.8358\n",
            "Epoch 2/40\n",
            "235/235 [==============================] - 1s 4ms/step - loss: 0.4088 - accuracy: 0.8573 - val_loss: 0.4154 - val_accuracy: 0.8539\n",
            "Epoch 3/40\n",
            "235/235 [==============================] - 1s 4ms/step - loss: 0.3681 - accuracy: 0.8685 - val_loss: 0.3821 - val_accuracy: 0.8646\n",
            "Epoch 4/40\n",
            "235/235 [==============================] - 1s 4ms/step - loss: 0.3445 - accuracy: 0.8757 - val_loss: 0.3725 - val_accuracy: 0.8651\n",
            "Epoch 5/40\n",
            "235/235 [==============================] - 1s 4ms/step - loss: 0.3175 - accuracy: 0.8850 - val_loss: 0.3589 - val_accuracy: 0.8719\n",
            "Epoch 6/40\n",
            "235/235 [==============================] - 1s 4ms/step - loss: 0.3068 - accuracy: 0.8881 - val_loss: 0.3445 - val_accuracy: 0.8764\n",
            "Epoch 7/40\n",
            "235/235 [==============================] - 1s 4ms/step - loss: 0.2898 - accuracy: 0.8948 - val_loss: 0.3446 - val_accuracy: 0.8720\n",
            "Epoch 8/40\n",
            "235/235 [==============================] - 1s 4ms/step - loss: 0.2810 - accuracy: 0.8961 - val_loss: 0.3546 - val_accuracy: 0.8740\n",
            "Epoch 9/40\n",
            "235/235 [==============================] - 1s 4ms/step - loss: 0.2693 - accuracy: 0.9012 - val_loss: 0.3476 - val_accuracy: 0.8766\n",
            "Epoch 10/40\n",
            "235/235 [==============================] - 1s 4ms/step - loss: 0.2682 - accuracy: 0.9013 - val_loss: 0.3336 - val_accuracy: 0.8807\n",
            "Epoch 11/40\n",
            "235/235 [==============================] - 1s 4ms/step - loss: 0.2552 - accuracy: 0.9057 - val_loss: 0.3411 - val_accuracy: 0.8820\n",
            "Epoch 12/40\n",
            "235/235 [==============================] - 1s 4ms/step - loss: 0.2476 - accuracy: 0.9086 - val_loss: 0.3341 - val_accuracy: 0.8785\n",
            "Epoch 13/40\n",
            "235/235 [==============================] - 1s 4ms/step - loss: 0.2403 - accuracy: 0.9108 - val_loss: 0.3407 - val_accuracy: 0.8768\n",
            "Epoch 14/40\n",
            "235/235 [==============================] - 1s 4ms/step - loss: 0.2333 - accuracy: 0.9134 - val_loss: 0.3530 - val_accuracy: 0.8749\n",
            "Epoch 15/40\n",
            "235/235 [==============================] - 1s 4ms/step - loss: 0.2264 - accuracy: 0.9160 - val_loss: 0.3361 - val_accuracy: 0.8820\n",
            "Epoch 16/40\n",
            "235/235 [==============================] - 1s 4ms/step - loss: 0.2264 - accuracy: 0.9152 - val_loss: 0.3190 - val_accuracy: 0.8882\n",
            "Epoch 17/40\n",
            "235/235 [==============================] - 1s 4ms/step - loss: 0.2161 - accuracy: 0.9206 - val_loss: 0.3215 - val_accuracy: 0.8872\n",
            "Epoch 18/40\n",
            "235/235 [==============================] - 1s 4ms/step - loss: 0.2122 - accuracy: 0.9213 - val_loss: 0.3382 - val_accuracy: 0.8842\n",
            "Epoch 19/40\n",
            "235/235 [==============================] - 1s 4ms/step - loss: 0.2064 - accuracy: 0.9233 - val_loss: 0.3317 - val_accuracy: 0.8872\n",
            "Epoch 20/40\n",
            "235/235 [==============================] - 1s 4ms/step - loss: 0.2028 - accuracy: 0.9246 - val_loss: 0.3287 - val_accuracy: 0.8870\n",
            "Epoch 21/40\n",
            "235/235 [==============================] - 1s 5ms/step - loss: 0.1955 - accuracy: 0.9274 - val_loss: 0.3436 - val_accuracy: 0.8846\n",
            "Epoch 22/40\n",
            "235/235 [==============================] - 1s 4ms/step - loss: 0.1930 - accuracy: 0.9281 - val_loss: 0.3329 - val_accuracy: 0.8894\n",
            "Epoch 23/40\n",
            "235/235 [==============================] - 1s 4ms/step - loss: 0.1870 - accuracy: 0.9301 - val_loss: 0.3469 - val_accuracy: 0.8876\n",
            "Epoch 24/40\n",
            "235/235 [==============================] - 1s 4ms/step - loss: 0.1810 - accuracy: 0.9336 - val_loss: 0.3385 - val_accuracy: 0.8864\n",
            "Epoch 25/40\n",
            "235/235 [==============================] - 1s 4ms/step - loss: 0.1790 - accuracy: 0.9328 - val_loss: 0.3459 - val_accuracy: 0.8897\n",
            "Epoch 26/40\n",
            "235/235 [==============================] - 1s 5ms/step - loss: 0.1721 - accuracy: 0.9359 - val_loss: 0.3410 - val_accuracy: 0.8894\n",
            "Epoch 27/40\n",
            "235/235 [==============================] - 1s 4ms/step - loss: 0.1675 - accuracy: 0.9376 - val_loss: 0.3775 - val_accuracy: 0.8776\n",
            "Epoch 28/40\n",
            "235/235 [==============================] - 1s 4ms/step - loss: 0.1672 - accuracy: 0.9378 - val_loss: 0.3370 - val_accuracy: 0.8894\n",
            "Epoch 29/40\n",
            "235/235 [==============================] - 1s 5ms/step - loss: 0.1634 - accuracy: 0.9383 - val_loss: 0.3523 - val_accuracy: 0.8883\n",
            "Epoch 30/40\n",
            "235/235 [==============================] - 1s 5ms/step - loss: 0.1617 - accuracy: 0.9399 - val_loss: 0.3690 - val_accuracy: 0.8840\n",
            "Epoch 31/40\n",
            "235/235 [==============================] - 1s 4ms/step - loss: 0.1531 - accuracy: 0.9433 - val_loss: 0.3567 - val_accuracy: 0.8909\n",
            "Epoch 32/40\n",
            "235/235 [==============================] - 1s 5ms/step - loss: 0.1502 - accuracy: 0.9440 - val_loss: 0.3628 - val_accuracy: 0.8916\n",
            "Epoch 33/40\n",
            "235/235 [==============================] - 1s 4ms/step - loss: 0.1506 - accuracy: 0.9437 - val_loss: 0.3521 - val_accuracy: 0.8922\n",
            "Epoch 34/40\n",
            "235/235 [==============================] - 1s 4ms/step - loss: 0.1406 - accuracy: 0.9482 - val_loss: 0.3568 - val_accuracy: 0.8896\n",
            "Epoch 35/40\n",
            "235/235 [==============================] - 1s 4ms/step - loss: 0.1389 - accuracy: 0.9488 - val_loss: 0.3765 - val_accuracy: 0.8932\n",
            "Epoch 36/40\n",
            "235/235 [==============================] - 1s 4ms/step - loss: 0.1394 - accuracy: 0.9477 - val_loss: 0.3698 - val_accuracy: 0.8869\n",
            "Epoch 37/40\n",
            "235/235 [==============================] - 1s 4ms/step - loss: 0.1344 - accuracy: 0.9507 - val_loss: 0.3820 - val_accuracy: 0.8885\n",
            "Epoch 38/40\n",
            "235/235 [==============================] - 1s 4ms/step - loss: 0.1271 - accuracy: 0.9527 - val_loss: 0.3946 - val_accuracy: 0.8834\n",
            "Epoch 39/40\n",
            "235/235 [==============================] - 1s 4ms/step - loss: 0.1266 - accuracy: 0.9529 - val_loss: 0.4028 - val_accuracy: 0.8862\n",
            "Epoch 40/40\n",
            "235/235 [==============================] - 1s 4ms/step - loss: 0.1283 - accuracy: 0.9524 - val_loss: 0.3729 - val_accuracy: 0.8922\n"
          ]
        }
      ]
    },
    {
      "cell_type": "code",
      "metadata": {
        "colab": {
          "base_uri": "https://localhost:8080/",
          "height": 283
        },
        "id": "WF4j1Aprtu6C",
        "outputId": "7fe8e801-16e9-449d-b6d5-ae238dfc54c4"
      },
      "source": [
        "def plot_loss(history, ylim=(0,1)):\n",
        "  plt.plot(history.history['accuracy'], label='accuracy')\n",
        "  plt.plot(history.history['val_accuracy'], label='val_accuracy')\n",
        "  plt.ylim(ylim)\n",
        "  plt.xlabel('Epoch')\n",
        "  plt.ylabel('Accuracy')\n",
        "  plt.legend()\n",
        "  plt.grid(True)\n",
        "\n",
        "plot_loss(history, ylim=(0.7, 1))"
      ],
      "execution_count": null,
      "outputs": [
        {
          "output_type": "display_data",
          "data": {
            "image/png": "[encoded data removed]",
            "text/plain": [
              "<Figure size 432x288 with 1 Axes>"
            ]
          },
          "metadata": {
            "needs_background": "light"
          }
        }
      ]
    },
    {
      "cell_type": "markdown",
      "metadata": {
        "id": "CxFAY5Eqx_l0"
      },
      "source": [
        "val_accuracy increased a bit, but not significantly."
      ]
    },
    {
      "cell_type": "markdown",
      "metadata": {
        "id": "9o-QRScot6_P"
      },
      "source": [
        "**Change: increase the number of layers**"
      ]
    },
    {
      "cell_type": "code",
      "metadata": {
        "colab": {
          "base_uri": "https://localhost:8080/"
        },
        "id": "Y5xBkj9XuGwG",
        "outputId": "40468e9c-5578-4581-e842-ce374ea75c68"
      },
      "source": [
        "dnn_model = keras.Sequential([\n",
        "      layers.Flatten(input_shape=(28,28)), # array 2 vecotr\n",
        "      layers.Dense(128, activation='relu'),\n",
        "      layers.Dense(64, activation='relu'),\n",
        "      layers.Dense(32, activation='relu'),\n",
        "      layers.Dense(10, activation='softmax')\n",
        "])\n",
        "\n",
        "dnn_model.compile(loss='categorical_crossentropy', \n",
        "                  optimizer=tf.keras.optimizers.Adam(),\n",
        "                  metrics=['accuracy'])\n",
        "\n",
        "\n",
        "dnn_model.summary()"
      ],
      "execution_count": null,
      "outputs": [
        {
          "output_type": "stream",
          "name": "stdout",
          "text": [
            "Model: \"sequential_12\"\n",
            "_________________________________________________________________\n",
            "Layer (type)                 Output Shape              Param #   \n",
            "=================================================================\n",
            "flatten_12 (Flatten)         (None, 784)               0         \n",
            "_________________________________________________________________\n",
            "dense_38 (Dense)             (None, 128)               100480    \n",
            "_________________________________________________________________\n",
            "dense_39 (Dense)             (None, 64)                8256      \n",
            "_________________________________________________________________\n",
            "dense_40 (Dense)             (None, 32)                2080      \n",
            "_________________________________________________________________\n",
            "dense_41 (Dense)             (None, 10)                330       \n",
            "=================================================================\n",
            "Total params: 111,146\n",
            "Trainable params: 111,146\n",
            "Non-trainable params: 0\n",
            "_________________________________________________________________\n"
          ]
        }
      ]
    },
    {
      "cell_type": "code",
      "metadata": {
        "colab": {
          "base_uri": "https://localhost:8080/"
        },
        "id": "jfAqPLkIuQbI",
        "outputId": "2f7168f3-9b43-4666-967b-557e170f2d77"
      },
      "source": [
        "history = dnn_model.fit(\n",
        "  x_train, y_train,\n",
        "  batch_size = 256,\n",
        "  epochs = 20,\n",
        "  validation_data = (x_test, y_test),\n",
        "  verbose = 1\n",
        ")"
      ],
      "execution_count": null,
      "outputs": [
        {
          "output_type": "stream",
          "name": "stdout",
          "text": [
            "Epoch 1/20\n",
            "235/235 [==============================] - 2s 5ms/step - loss: 0.7083 - accuracy: 0.7549 - val_loss: 0.4973 - val_accuracy: 0.8263\n",
            "Epoch 2/20\n",
            "235/235 [==============================] - 1s 5ms/step - loss: 0.4183 - accuracy: 0.8534 - val_loss: 0.4156 - val_accuracy: 0.8563\n",
            "Epoch 3/20\n",
            "235/235 [==============================] - 1s 4ms/step - loss: 0.3731 - accuracy: 0.8678 - val_loss: 0.4117 - val_accuracy: 0.8566\n",
            "Epoch 4/20\n",
            "235/235 [==============================] - 1s 4ms/step - loss: 0.3488 - accuracy: 0.8743 - val_loss: 0.3799 - val_accuracy: 0.8666\n",
            "Epoch 5/20\n",
            "235/235 [==============================] - 1s 4ms/step - loss: 0.3283 - accuracy: 0.8814 - val_loss: 0.3577 - val_accuracy: 0.8735\n",
            "Epoch 6/20\n",
            "235/235 [==============================] - 1s 4ms/step - loss: 0.3133 - accuracy: 0.8874 - val_loss: 0.3588 - val_accuracy: 0.8749\n",
            "Epoch 7/20\n",
            "235/235 [==============================] - 1s 4ms/step - loss: 0.2981 - accuracy: 0.8917 - val_loss: 0.3489 - val_accuracy: 0.8751\n",
            "Epoch 8/20\n",
            "235/235 [==============================] - 1s 4ms/step - loss: 0.2862 - accuracy: 0.8953 - val_loss: 0.3505 - val_accuracy: 0.8745\n",
            "Epoch 9/20\n",
            "235/235 [==============================] - 1s 5ms/step - loss: 0.2774 - accuracy: 0.8985 - val_loss: 0.3612 - val_accuracy: 0.8751\n",
            "Epoch 10/20\n",
            "235/235 [==============================] - 1s 4ms/step - loss: 0.2705 - accuracy: 0.9004 - val_loss: 0.3467 - val_accuracy: 0.8753\n",
            "Epoch 11/20\n",
            "235/235 [==============================] - 1s 5ms/step - loss: 0.2558 - accuracy: 0.9052 - val_loss: 0.3599 - val_accuracy: 0.8719\n",
            "Epoch 12/20\n",
            "235/235 [==============================] - 1s 4ms/step - loss: 0.2522 - accuracy: 0.9059 - val_loss: 0.3440 - val_accuracy: 0.8820\n",
            "Epoch 13/20\n",
            "235/235 [==============================] - 1s 5ms/step - loss: 0.2468 - accuracy: 0.9084 - val_loss: 0.3676 - val_accuracy: 0.8738\n",
            "Epoch 14/20\n",
            "235/235 [==============================] - 1s 5ms/step - loss: 0.2378 - accuracy: 0.9122 - val_loss: 0.3440 - val_accuracy: 0.8760\n",
            "Epoch 15/20\n",
            "235/235 [==============================] - 1s 4ms/step - loss: 0.2314 - accuracy: 0.9146 - val_loss: 0.3637 - val_accuracy: 0.8753\n",
            "Epoch 16/20\n",
            "235/235 [==============================] - 1s 5ms/step - loss: 0.2254 - accuracy: 0.9159 - val_loss: 0.3373 - val_accuracy: 0.8820\n",
            "Epoch 17/20\n",
            "235/235 [==============================] - 1s 4ms/step - loss: 0.2196 - accuracy: 0.9192 - val_loss: 0.3537 - val_accuracy: 0.8803\n",
            "Epoch 18/20\n",
            "235/235 [==============================] - 1s 5ms/step - loss: 0.2125 - accuracy: 0.9208 - val_loss: 0.3493 - val_accuracy: 0.8781\n",
            "Epoch 19/20\n",
            "235/235 [==============================] - 1s 5ms/step - loss: 0.2045 - accuracy: 0.9242 - val_loss: 0.3386 - val_accuracy: 0.8824\n",
            "Epoch 20/20\n",
            "235/235 [==============================] - 1s 4ms/step - loss: 0.2023 - accuracy: 0.9247 - val_loss: 0.3297 - val_accuracy: 0.8868\n"
          ]
        }
      ]
    },
    {
      "cell_type": "code",
      "metadata": {
        "colab": {
          "base_uri": "https://localhost:8080/",
          "height": 283
        },
        "id": "3uqkwTFJue_K",
        "outputId": "6f9e3825-a49c-4cd8-eb30-a113c705fe28"
      },
      "source": [
        "def plot_loss(history, ylim=(0,1)):\n",
        "  plt.plot(history.history['accuracy'], label='accuracy')\n",
        "  plt.plot(history.history['val_accuracy'], label='val_accuracy')\n",
        "  plt.ylim(ylim)\n",
        "  plt.xlabel('Epoch')\n",
        "  plt.ylabel('Accuracy')\n",
        "  plt.legend()\n",
        "  plt.grid(True)\n",
        "\n",
        "plot_loss(history, ylim=(0.7, 1))"
      ],
      "execution_count": null,
      "outputs": [
        {
          "output_type": "display_data",
          "data": {
            "image/png": "[encoded data removed]",
            "text/plain": [
              "<Figure size 432x288 with 1 Axes>"
            ]
          },
          "metadata": {
            "needs_background": "light"
          }
        }
      ]
    },
    {
      "cell_type": "markdown",
      "metadata": {
        "id": "58xQUQSpuvw6"
      },
      "source": [
        "val_accuracy did not improve, bonus layer was not necessary."
      ]
    },
    {
      "cell_type": "markdown",
      "metadata": {
        "id": "AXvXhlcfvKtW"
      },
      "source": [
        "**Change: increase the number of neurons in the second layer.**"
      ]
    },
    {
      "cell_type": "code",
      "metadata": {
        "colab": {
          "base_uri": "https://localhost:8080/"
        },
        "id": "fMEHYuEivYUn",
        "outputId": "1112c7cd-7d15-4fe0-d76f-51e986a523d4"
      },
      "source": [
        "dnn_model = keras.Sequential([\n",
        "      layers.Flatten(input_shape=(28,28)), # array 2 vector\n",
        "      layers.Dense(128, activation='relu'),\n",
        "      layers.Dense(128, activation='relu'),\n",
        "      layers.Dense(10, activation='softmax')\n",
        "])\n",
        "\n",
        "dnn_model.compile(loss='categorical_crossentropy', \n",
        "                  optimizer=tf.keras.optimizers.Adam(),\n",
        "                  metrics=['accuracy'])\n",
        "\n",
        "\n",
        "dnn_model.summary()"
      ],
      "execution_count": null,
      "outputs": [
        {
          "output_type": "stream",
          "name": "stdout",
          "text": [
            "Model: \"sequential_13\"\n",
            "_________________________________________________________________\n",
            "Layer (type)                 Output Shape              Param #   \n",
            "=================================================================\n",
            "flatten_13 (Flatten)         (None, 784)               0         \n",
            "_________________________________________________________________\n",
            "dense_42 (Dense)             (None, 128)               100480    \n",
            "_________________________________________________________________\n",
            "dense_43 (Dense)             (None, 128)               16512     \n",
            "_________________________________________________________________\n",
            "dense_44 (Dense)             (None, 10)                1290      \n",
            "=================================================================\n",
            "Total params: 118,282\n",
            "Trainable params: 118,282\n",
            "Non-trainable params: 0\n",
            "_________________________________________________________________\n"
          ]
        }
      ]
    },
    {
      "cell_type": "code",
      "metadata": {
        "colab": {
          "base_uri": "https://localhost:8080/"
        },
        "id": "kgpl_bf1vflM",
        "outputId": "2eeed8b3-9460-41f0-d53c-5ca404a09878"
      },
      "source": [
        "history = dnn_model.fit(\n",
        "  x_train, y_train,\n",
        "  batch_size = 256,\n",
        "  epochs = 20,\n",
        "  validation_data = (x_test, y_test),\n",
        "  verbose = 1\n",
        ")"
      ],
      "execution_count": null,
      "outputs": [
        {
          "output_type": "stream",
          "name": "stdout",
          "text": [
            "Epoch 1/20\n",
            "235/235 [==============================] - 2s 5ms/step - loss: 0.5940 - accuracy: 0.7972 - val_loss: 0.4641 - val_accuracy: 0.8351\n",
            "Epoch 2/20\n",
            "235/235 [==============================] - 1s 4ms/step - loss: 0.4041 - accuracy: 0.8575 - val_loss: 0.4056 - val_accuracy: 0.8573\n",
            "Epoch 3/20\n",
            "235/235 [==============================] - 1s 4ms/step - loss: 0.3585 - accuracy: 0.8717 - val_loss: 0.3884 - val_accuracy: 0.8598\n",
            "Epoch 4/20\n",
            "235/235 [==============================] - 1s 4ms/step - loss: 0.3293 - accuracy: 0.8811 - val_loss: 0.3869 - val_accuracy: 0.8628\n",
            "Epoch 5/20\n",
            "235/235 [==============================] - 1s 4ms/step - loss: 0.3085 - accuracy: 0.8891 - val_loss: 0.3643 - val_accuracy: 0.8679\n",
            "Epoch 6/20\n",
            "235/235 [==============================] - 1s 4ms/step - loss: 0.2974 - accuracy: 0.8913 - val_loss: 0.3467 - val_accuracy: 0.8726\n",
            "Epoch 7/20\n",
            "235/235 [==============================] - 1s 4ms/step - loss: 0.2823 - accuracy: 0.8957 - val_loss: 0.3432 - val_accuracy: 0.8763\n",
            "Epoch 8/20\n",
            "235/235 [==============================] - 1s 4ms/step - loss: 0.2713 - accuracy: 0.9014 - val_loss: 0.3531 - val_accuracy: 0.8755\n",
            "Epoch 9/20\n",
            "235/235 [==============================] - 1s 4ms/step - loss: 0.2642 - accuracy: 0.9018 - val_loss: 0.3355 - val_accuracy: 0.8802\n",
            "Epoch 10/20\n",
            "235/235 [==============================] - 1s 4ms/step - loss: 0.2528 - accuracy: 0.9062 - val_loss: 0.3401 - val_accuracy: 0.8793\n",
            "Epoch 11/20\n",
            "235/235 [==============================] - 1s 4ms/step - loss: 0.2446 - accuracy: 0.9093 - val_loss: 0.3318 - val_accuracy: 0.8822\n",
            "Epoch 12/20\n",
            "235/235 [==============================] - 1s 4ms/step - loss: 0.2375 - accuracy: 0.9115 - val_loss: 0.3359 - val_accuracy: 0.8792\n",
            "Epoch 13/20\n",
            "235/235 [==============================] - 1s 4ms/step - loss: 0.2275 - accuracy: 0.9165 - val_loss: 0.3195 - val_accuracy: 0.8850\n",
            "Epoch 14/20\n",
            "235/235 [==============================] - 1s 4ms/step - loss: 0.2252 - accuracy: 0.9153 - val_loss: 0.3228 - val_accuracy: 0.8883\n",
            "Epoch 15/20\n",
            "235/235 [==============================] - 1s 4ms/step - loss: 0.2156 - accuracy: 0.9201 - val_loss: 0.3386 - val_accuracy: 0.8784\n",
            "Epoch 16/20\n",
            "235/235 [==============================] - 1s 4ms/step - loss: 0.2122 - accuracy: 0.9203 - val_loss: 0.3253 - val_accuracy: 0.8884\n",
            "Epoch 17/20\n",
            "235/235 [==============================] - 1s 4ms/step - loss: 0.2082 - accuracy: 0.9230 - val_loss: 0.3267 - val_accuracy: 0.8847\n",
            "Epoch 18/20\n",
            "235/235 [==============================] - 1s 4ms/step - loss: 0.1976 - accuracy: 0.9260 - val_loss: 0.3512 - val_accuracy: 0.8790\n",
            "Epoch 19/20\n",
            "235/235 [==============================] - 1s 4ms/step - loss: 0.1941 - accuracy: 0.9273 - val_loss: 0.3240 - val_accuracy: 0.8887\n",
            "Epoch 20/20\n",
            "235/235 [==============================] - 1s 4ms/step - loss: 0.1896 - accuracy: 0.9297 - val_loss: 0.3275 - val_accuracy: 0.8876\n"
          ]
        }
      ]
    },
    {
      "cell_type": "code",
      "metadata": {
        "colab": {
          "base_uri": "https://localhost:8080/",
          "height": 283
        },
        "id": "NF7GvM-hwmQX",
        "outputId": "5c0798fc-98c3-4762-f77e-a17f84ef4a3d"
      },
      "source": [
        "def plot_loss(history, ylim=(0,1)):\n",
        "  plt.plot(history.history['accuracy'], label='accuracy')\n",
        "  plt.plot(history.history['val_accuracy'], label='val_accuracy')\n",
        "  plt.ylim(ylim)\n",
        "  plt.xlabel('Epoch')\n",
        "  plt.ylabel('Accuracy')\n",
        "  plt.legend()\n",
        "  plt.grid(True)\n",
        "\n",
        "plot_loss(history, ylim=(0.7, 1))"
      ],
      "execution_count": null,
      "outputs": [
        {
          "output_type": "display_data",
          "data": {
            "image/png": "[encoded data removed]",
            "text/plain": [
              "<Figure size 432x288 with 1 Axes>"
            ]
          },
          "metadata": {
            "needs_background": "light"
          }
        }
      ]
    },
    {
      "cell_type": "markdown",
      "metadata": {
        "id": "K2or3mm6wwzR"
      },
      "source": [
        "val_accuracy seems to be similar as in the previsous case."
      ]
    },
    {
      "cell_type": "markdown",
      "metadata": {
        "id": "O5-044h0w7_z"
      },
      "source": [
        "**Change: decrease the number of neurons in the second layer.**"
      ]
    },
    {
      "cell_type": "code",
      "metadata": {
        "colab": {
          "base_uri": "https://localhost:8080/"
        },
        "id": "TWRH2k-_xEW5",
        "outputId": "63124910-8e2f-49bd-da91-bb085ce3c33b"
      },
      "source": [
        "dnn_model = keras.Sequential([\n",
        "      layers.Flatten(input_shape=(28,28)), # array 2 vector\n",
        "      layers.Dense(128, activation='relu'),\n",
        "      layers.Dense(32, activation='relu'),\n",
        "      layers.Dense(10, activation='softmax')\n",
        "])\n",
        "\n",
        "dnn_model.compile(loss='categorical_crossentropy', \n",
        "                  optimizer=tf.keras.optimizers.Adam(),\n",
        "                  metrics=['accuracy'])\n",
        "\n",
        "\n",
        "dnn_model.summary()"
      ],
      "execution_count": null,
      "outputs": [
        {
          "output_type": "stream",
          "name": "stdout",
          "text": [
            "Model: \"sequential_14\"\n",
            "_________________________________________________________________\n",
            "Layer (type)                 Output Shape              Param #   \n",
            "=================================================================\n",
            "flatten_14 (Flatten)         (None, 784)               0         \n",
            "_________________________________________________________________\n",
            "dense_45 (Dense)             (None, 128)               100480    \n",
            "_________________________________________________________________\n",
            "dense_46 (Dense)             (None, 32)                4128      \n",
            "_________________________________________________________________\n",
            "dense_47 (Dense)             (None, 10)                330       \n",
            "=================================================================\n",
            "Total params: 104,938\n",
            "Trainable params: 104,938\n",
            "Non-trainable params: 0\n",
            "_________________________________________________________________\n"
          ]
        }
      ]
    },
    {
      "cell_type": "code",
      "metadata": {
        "colab": {
          "base_uri": "https://localhost:8080/"
        },
        "id": "oxQ_GehixKAZ",
        "outputId": "f6d7efa2-8447-40f1-da6c-a0110332390b"
      },
      "source": [
        "history = dnn_model.fit(\n",
        "  x_train, y_train,\n",
        "  batch_size = 256,\n",
        "  epochs = 20,\n",
        "  validation_data = (x_test, y_test),\n",
        "  verbose = 1\n",
        ")"
      ],
      "execution_count": null,
      "outputs": [
        {
          "output_type": "stream",
          "name": "stdout",
          "text": [
            "Epoch 1/20\n",
            "235/235 [==============================] - 2s 5ms/step - loss: 0.6251 - accuracy: 0.7860 - val_loss: 0.4761 - val_accuracy: 0.8327\n",
            "Epoch 2/20\n",
            "235/235 [==============================] - 1s 4ms/step - loss: 0.4221 - accuracy: 0.8515 - val_loss: 0.4185 - val_accuracy: 0.8515\n",
            "Epoch 3/20\n",
            "235/235 [==============================] - 1s 4ms/step - loss: 0.3738 - accuracy: 0.8665 - val_loss: 0.3926 - val_accuracy: 0.8600\n",
            "Epoch 4/20\n",
            "235/235 [==============================] - 1s 4ms/step - loss: 0.3479 - accuracy: 0.8761 - val_loss: 0.3948 - val_accuracy: 0.8571\n",
            "Epoch 5/20\n",
            "235/235 [==============================] - 1s 4ms/step - loss: 0.3283 - accuracy: 0.8825 - val_loss: 0.3696 - val_accuracy: 0.8692\n",
            "Epoch 6/20\n",
            "235/235 [==============================] - 1s 4ms/step - loss: 0.3178 - accuracy: 0.8843 - val_loss: 0.3676 - val_accuracy: 0.8683\n",
            "Epoch 7/20\n",
            "235/235 [==============================] - 1s 4ms/step - loss: 0.3013 - accuracy: 0.8903 - val_loss: 0.3597 - val_accuracy: 0.8709\n",
            "Epoch 8/20\n",
            "235/235 [==============================] - 1s 4ms/step - loss: 0.2931 - accuracy: 0.8933 - val_loss: 0.3598 - val_accuracy: 0.8688\n",
            "Epoch 9/20\n",
            "235/235 [==============================] - 1s 4ms/step - loss: 0.2831 - accuracy: 0.8971 - val_loss: 0.3664 - val_accuracy: 0.8663\n",
            "Epoch 10/20\n",
            "235/235 [==============================] - 1s 4ms/step - loss: 0.2741 - accuracy: 0.8995 - val_loss: 0.3406 - val_accuracy: 0.8779\n",
            "Epoch 11/20\n",
            "235/235 [==============================] - 1s 4ms/step - loss: 0.2664 - accuracy: 0.9022 - val_loss: 0.3405 - val_accuracy: 0.8782\n",
            "Epoch 12/20\n",
            "235/235 [==============================] - 1s 4ms/step - loss: 0.2577 - accuracy: 0.9054 - val_loss: 0.3273 - val_accuracy: 0.8822\n",
            "Epoch 13/20\n",
            "235/235 [==============================] - 1s 4ms/step - loss: 0.2474 - accuracy: 0.9099 - val_loss: 0.3373 - val_accuracy: 0.8774\n",
            "Epoch 14/20\n",
            "235/235 [==============================] - 1s 4ms/step - loss: 0.2420 - accuracy: 0.9110 - val_loss: 0.3336 - val_accuracy: 0.8787\n",
            "Epoch 15/20\n",
            "235/235 [==============================] - 1s 4ms/step - loss: 0.2388 - accuracy: 0.9118 - val_loss: 0.3369 - val_accuracy: 0.8767\n",
            "Epoch 16/20\n",
            "235/235 [==============================] - 1s 4ms/step - loss: 0.2304 - accuracy: 0.9144 - val_loss: 0.3344 - val_accuracy: 0.8809\n",
            "Epoch 17/20\n",
            "235/235 [==============================] - 1s 4ms/step - loss: 0.2295 - accuracy: 0.9147 - val_loss: 0.3325 - val_accuracy: 0.8780\n",
            "Epoch 18/20\n",
            "235/235 [==============================] - 1s 4ms/step - loss: 0.2227 - accuracy: 0.9174 - val_loss: 0.3254 - val_accuracy: 0.8864\n",
            "Epoch 19/20\n",
            "235/235 [==============================] - 1s 4ms/step - loss: 0.2152 - accuracy: 0.9205 - val_loss: 0.3333 - val_accuracy: 0.8829\n",
            "Epoch 20/20\n",
            "235/235 [==============================] - 1s 4ms/step - loss: 0.2140 - accuracy: 0.9215 - val_loss: 0.3408 - val_accuracy: 0.8838\n"
          ]
        }
      ]
    },
    {
      "cell_type": "code",
      "metadata": {
        "colab": {
          "base_uri": "https://localhost:8080/",
          "height": 283
        },
        "id": "DA29cGCGxSA-",
        "outputId": "b289502d-5b82-4186-c583-b24e6120f5d6"
      },
      "source": [
        "def plot_loss(history, ylim=(0,1)):\n",
        "  plt.plot(history.history['accuracy'], label='accuracy')\n",
        "  plt.plot(history.history['val_accuracy'], label='val_accuracy')\n",
        "  plt.ylim(ylim)\n",
        "  plt.xlabel('Epoch')\n",
        "  plt.ylabel('Accuracy')\n",
        "  plt.legend()\n",
        "  plt.grid(True)\n",
        "\n",
        "plot_loss(history, ylim=(0.7, 1))"
      ],
      "execution_count": null,
      "outputs": [
        {
          "output_type": "display_data",
          "data": {
            "image/png": "[encoded data removed]",
            "text/plain": [
              "<Figure size 432x288 with 1 Axes>"
            ]
          },
          "metadata": {
            "needs_background": "light"
          }
        }
      ]
    },
    {
      "cell_type": "markdown",
      "metadata": {
        "id": "PpQ_v7DmxWL8"
      },
      "source": [
        "val_accuracy seems to be a bit worse than for the 64 neurons."
      ]
    },
    {
      "cell_type": "markdown",
      "metadata": {
        "id": "mpFZl79kf8Ld"
      },
      "source": [
        "## Convolutional Neural Network"
      ]
    },
    {
      "cell_type": "code",
      "metadata": {
        "id": "-rceUxk9ffgs",
        "colab": {
          "base_uri": "https://localhost:8080/"
        },
        "outputId": "59ec472e-0319-4602-d6d0-c86581fab178"
      },
      "source": [
        "cnn_model = keras.Sequential([\n",
        "      layers.Conv2D(input_shape=(28,28,1), filters = 32, kernel_size = (3,3), activation = 'relu'),\n",
        "      layers.Dropout(0.5), # polovinu vstupu odstrel, kvuli overfitting\n",
        "      layers.Conv2D(filters = 32, kernel_size = (3,3), activation = 'relu'),\n",
        "      layers.Flatten(),\n",
        "      layers.Dense(128, activation='relu'),\n",
        "      layers.Dropout(0.5),\n",
        "      layers.Dense(10, activation='softmax')\n",
        "])\n",
        "\n",
        "cnn_model.compile(loss='categorical_crossentropy', \n",
        "                  optimizer=tf.keras.optimizers.Adam(),\n",
        "                  metrics=['accuracy'])\n",
        "\n",
        "cnn_model.summary()"
      ],
      "execution_count": null,
      "outputs": [
        {
          "output_type": "stream",
          "name": "stdout",
          "text": [
            "Model: \"sequential_2\"\n",
            "_________________________________________________________________\n",
            "Layer (type)                 Output Shape              Param #   \n",
            "=================================================================\n",
            "conv2d_2 (Conv2D)            (None, 26, 26, 32)        320       \n",
            "_________________________________________________________________\n",
            "dropout_2 (Dropout)          (None, 26, 26, 32)        0         \n",
            "_________________________________________________________________\n",
            "conv2d_3 (Conv2D)            (None, 24, 24, 32)        9248      \n",
            "_________________________________________________________________\n",
            "flatten_2 (Flatten)          (None, 18432)             0         \n",
            "_________________________________________________________________\n",
            "dense_5 (Dense)              (None, 128)               2359424   \n",
            "_________________________________________________________________\n",
            "dropout_3 (Dropout)          (None, 128)               0         \n",
            "_________________________________________________________________\n",
            "dense_6 (Dense)              (None, 10)                1290      \n",
            "=================================================================\n",
            "Total params: 2,370,282\n",
            "Trainable params: 2,370,282\n",
            "Non-trainable params: 0\n",
            "_________________________________________________________________\n"
          ]
        }
      ]
    },
    {
      "cell_type": "markdown",
      "metadata": {
        "id": "2BynKqrg9sq8"
      },
      "source": [
        "pocet param = pocet filtru * (N+N+1)"
      ]
    },
    {
      "cell_type": "code",
      "metadata": {
        "id": "QWwnqR-Dg2NG",
        "colab": {
          "base_uri": "https://localhost:8080/"
        },
        "outputId": "0e9d51c0-09c9-4012-a8d9-7a8e92b8a171"
      },
      "source": [
        "history = cnn_model.fit(\n",
        "  x_train, y_train,\n",
        "  batch_size = 256,\n",
        "  epochs = 20,\n",
        "  validation_data = (x_test, y_test),\n",
        "  verbose = 1\n",
        ")"
      ],
      "execution_count": null,
      "outputs": [
        {
          "output_type": "stream",
          "name": "stdout",
          "text": [
            "Epoch 1/20\n",
            "235/235 [==============================] - 35s 25ms/step - loss: 0.6128 - accuracy: 0.7808 - val_loss: 0.3966 - val_accuracy: 0.8538\n",
            "Epoch 2/20\n",
            "235/235 [==============================] - 5s 23ms/step - loss: 0.4020 - accuracy: 0.8557 - val_loss: 0.3370 - val_accuracy: 0.8762\n",
            "Epoch 3/20\n",
            "235/235 [==============================] - 5s 23ms/step - loss: 0.3470 - accuracy: 0.8747 - val_loss: 0.3088 - val_accuracy: 0.8849\n",
            "Epoch 4/20\n",
            "235/235 [==============================] - 5s 23ms/step - loss: 0.3110 - accuracy: 0.8866 - val_loss: 0.2768 - val_accuracy: 0.8992\n",
            "Epoch 5/20\n",
            "235/235 [==============================] - 5s 23ms/step - loss: 0.2890 - accuracy: 0.8935 - val_loss: 0.2686 - val_accuracy: 0.9004\n",
            "Epoch 6/20\n",
            "235/235 [==============================] - 6s 24ms/step - loss: 0.2678 - accuracy: 0.9013 - val_loss: 0.2531 - val_accuracy: 0.9066\n",
            "Epoch 7/20\n",
            "235/235 [==============================] - 5s 23ms/step - loss: 0.2472 - accuracy: 0.9092 - val_loss: 0.2582 - val_accuracy: 0.9065\n",
            "Epoch 8/20\n",
            "235/235 [==============================] - 5s 23ms/step - loss: 0.2272 - accuracy: 0.9151 - val_loss: 0.2464 - val_accuracy: 0.9102\n",
            "Epoch 9/20\n",
            "235/235 [==============================] - 5s 23ms/step - loss: 0.2152 - accuracy: 0.9195 - val_loss: 0.2490 - val_accuracy: 0.9113\n",
            "Epoch 10/20\n",
            "235/235 [==============================] - 5s 23ms/step - loss: 0.2007 - accuracy: 0.9257 - val_loss: 0.2367 - val_accuracy: 0.9139\n",
            "Epoch 11/20\n",
            "235/235 [==============================] - 5s 23ms/step - loss: 0.1893 - accuracy: 0.9283 - val_loss: 0.2409 - val_accuracy: 0.9161\n",
            "Epoch 12/20\n",
            "235/235 [==============================] - 5s 23ms/step - loss: 0.1797 - accuracy: 0.9331 - val_loss: 0.2428 - val_accuracy: 0.9135\n",
            "Epoch 13/20\n",
            "235/235 [==============================] - 5s 23ms/step - loss: 0.1662 - accuracy: 0.9369 - val_loss: 0.2450 - val_accuracy: 0.9156\n",
            "Epoch 14/20\n",
            "235/235 [==============================] - 5s 23ms/step - loss: 0.1606 - accuracy: 0.9392 - val_loss: 0.2438 - val_accuracy: 0.9167\n",
            "Epoch 15/20\n",
            "235/235 [==============================] - 5s 23ms/step - loss: 0.1497 - accuracy: 0.9429 - val_loss: 0.2501 - val_accuracy: 0.9158\n",
            "Epoch 16/20\n",
            "235/235 [==============================] - 5s 23ms/step - loss: 0.1435 - accuracy: 0.9456 - val_loss: 0.2442 - val_accuracy: 0.9201\n",
            "Epoch 17/20\n",
            "235/235 [==============================] - 5s 23ms/step - loss: 0.1338 - accuracy: 0.9490 - val_loss: 0.2496 - val_accuracy: 0.9221\n",
            "Epoch 18/20\n",
            "235/235 [==============================] - 5s 23ms/step - loss: 0.1278 - accuracy: 0.9503 - val_loss: 0.2688 - val_accuracy: 0.9195\n",
            "Epoch 19/20\n",
            "235/235 [==============================] - 5s 23ms/step - loss: 0.1199 - accuracy: 0.9539 - val_loss: 0.2660 - val_accuracy: 0.9205\n",
            "Epoch 20/20\n",
            "235/235 [==============================] - 5s 23ms/step - loss: 0.1188 - accuracy: 0.9543 - val_loss: 0.2584 - val_accuracy: 0.9241\n"
          ]
        }
      ]
    },
    {
      "cell_type": "markdown",
      "metadata": {
        "id": "0aV_6nSIAESz"
      },
      "source": [
        "mse + c*sum(w*w) (laso regrese, penalty)"
      ]
    },
    {
      "cell_type": "code",
      "metadata": {
        "id": "cRipnjaHtmzJ"
      },
      "source": [
        ""
      ],
      "execution_count": null,
      "outputs": []
    },
    {
      "cell_type": "code",
      "metadata": {
        "id": "1CJrQWTChBxi",
        "colab": {
          "base_uri": "https://localhost:8080/",
          "height": 283
        },
        "outputId": "29081e25-8bea-485c-f033-b9ca8b66805d"
      },
      "source": [
        "plot_loss(history, ylim=(0.7, 1))"
      ],
      "execution_count": null,
      "outputs": [
        {
          "output_type": "display_data",
          "data": {
            "image/png": "[encoded data removed]",
            "text/plain": [
              "<Figure size 432x288 with 1 Axes>"
            ]
          },
          "metadata": {
            "needs_background": "light"
          }
        }
      ]
    }
  ]
}